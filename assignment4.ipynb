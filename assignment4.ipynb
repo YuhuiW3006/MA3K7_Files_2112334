{
 "cells": [
  {
   "cell_type": "code",
   "execution_count": 6,
   "id": "f081a769-4e6e-4d41-a6fb-35b03ec51c74",
   "metadata": {},
   "outputs": [
    {
     "name": "stdout",
     "output_type": "stream",
     "text": [
      "yes\n"
     ]
    }
   ],
   "source": [
    "import random\n",
    "\n",
    "def step():\n",
    "    # Simulate a coin toss, return 1 or 2 with equal probability\n",
    "    return random.choice([1, 2])\n",
    "\n",
    "def location():\n",
    "    current_location = 1  # Start at location 1\n",
    "    locations = [current_location]  # Record the starting location\n",
    "\n",
    "    # Take 24 steps\n",
    "    for _ in range(24):\n",
    "        current_location += step()  # Update location after each step\n",
    "        locations.append(current_location)  # Record new location\n",
    "\n",
    "    # Check if location 25 has been reached at least once\n",
    "    if 25 in locations:\n",
    "        return \"yes\"\n",
    "    else:\n",
    "        return \"no\"\n",
    "\n",
    "# Example of running the simulation once\n",
    "result = location()\n",
    "print(result)\n"
   ]
  },
  {
   "cell_type": "code",
   "execution_count": 17,
   "id": "b2aaa055-4542-49ac-837d-d8c9fa731771",
   "metadata": {},
   "outputs": [
    {
     "name": "stdout",
     "output_type": "stream",
     "text": [
      "Yes: 6645\n",
      "No: 3355\n"
     ]
    }
   ],
   "source": [
    "simulations = 10000  # For example, simulate 10,000 times\n",
    "yes_count = sum(location() == \"yes\" for _ in range(simulations))\n",
    "print(f\"Yes: {yes_count}\")\n",
    "print(f\"No: {simulations - yes_count}\")\n"
   ]
  },
  {
   "cell_type": "code",
   "execution_count": 18,
   "id": "97dadbfe-2cc0-4166-b281-4f8936349953",
   "metadata": {},
   "outputs": [
    {
     "name": "stdin",
     "output_type": "stream",
     "text": [
      "Enter the number of simulations to run:  1000000\n"
     ]
    },
    {
     "name": "stdout",
     "output_type": "stream",
     "text": [
      "The probability of landing on step 25 at least once in 24 steps is: 0.6671\n"
     ]
    }
   ],
   "source": [
    "import random\n",
    "\n",
    "def step():\n",
    "    # Returns 1 or 2 with equal probability\n",
    "    return random.choice([1, 2])\n",
    "\n",
    "def location():\n",
    "    current_location = 1  # Start at location 1\n",
    "    locations = [current_location]  # Record the starting location\n",
    "\n",
    "    # Take 24 steps\n",
    "    for _ in range(24):\n",
    "        current_location += step()  # Update location after each step\n",
    "        locations.append(current_location)  # Record new location\n",
    "\n",
    "    # Check if location 25 has been reached at least once\n",
    "    if 25 in locations:\n",
    "        return \"yes\"\n",
    "    else:\n",
    "        return \"no\"\n",
    "\n",
    "def simulate_landing_on_25():\n",
    "    # Ask the user for the number of simulations to run\n",
    "    simulation_amount = int(input(\"Enter the number of simulations to run: \"))\n",
    "    \n",
    "    # Run the simulations and count the 'yes' responses\n",
    "    yes_count = sum(location() == \"yes\" for _ in range(simulation_amount))\n",
    "    \n",
    "    # Calculate and print the probability of landing on 25\n",
    "    probability = yes_count / simulation_amount\n",
    "    print(f\"The probability of landing on step 25 at least once in 24 steps is: {probability:.4f}\")\n",
    "\n",
    "# Call the function to run the simulation\n",
    "simulate_landing_on_25()\n"
   ]
  },
  {
   "cell_type": "code",
   "execution_count": 21,
   "id": "42f9e9dd-2a2d-4517-a30f-cbb044520ab9",
   "metadata": {},
   "outputs": [
    {
     "data": {
      "image/png": "[encoded data removed]",
      "text/plain": [
       "<Figure size 720x432 with 1 Axes>"
      ]
     },
     "metadata": {
      "needs_background": "light"
     },
     "output_type": "display_data"
    },
    {
     "name": "stdout",
     "output_type": "stream",
     "text": [
      "Amount of simulation, to the power of 10\tProbability\n",
      "0.5\t\t\t1.0000\n",
      "1.0\t\t\t0.8000\n",
      "1.5\t\t\t0.5806\n",
      "2.0\t\t\t0.6500\n",
      "2.5\t\t\t0.6487\n",
      "3.0\t\t\t0.6700\n",
      "3.5\t\t\t0.6711\n",
      "4.0\t\t\t0.6692\n",
      "4.5\t\t\t0.6666\n",
      "5.0\t\t\t0.6684\n",
      "5.5\t\t\t0.6677\n",
      "6.0\t\t\t0.6672\n",
      "6.5\t\t\t0.6673\n",
      "7.0\t\t\t0.6665\n",
      "7.5\t\t\t0.6667\n",
      "8.0\t\t\t0.6666\n"
     ]
    }
   ],
   "source": [
    "import matplotlib.pyplot as plt\n",
    "import numpy as np\n",
    "import math\n",
    "\n",
    "# Reuse the previous step function\n",
    "def step():\n",
    "    return random.choice([1, 2])\n",
    "\n",
    "# Reuse the previous location function\n",
    "def location():\n",
    "    current_location = 1  # Start at location 1\n",
    "    locations = [current_location]  # Record the starting location\n",
    "\n",
    "    # Take 24 steps\n",
    "    for _ in range(24):\n",
    "        current_location += step()  # Update location after each step\n",
    "        locations.append(current_location)  # Record new location\n",
    "\n",
    "    # Check if location 25 has been reached at least once\n",
    "    if 25 in locations:\n",
    "        return \"yes\"\n",
    "    else:\n",
    "        return \"no\"\n",
    "\n",
    "# New function to calculate probability for a given number of simulations\n",
    "def calculate_probability(simulations):\n",
    "    yes_count = sum(location() == \"yes\" for _ in range(simulations))\n",
    "    return yes_count / simulations\n",
    "\n",
    "# Calculate probabilities for simulation amounts of 10^0.5, 10^1, 10^1.5, ..., 10^6\n",
    "powers_of_ten = np.arange(0.5, 8.5, 0.5)\n",
    "simulations = [10**p for p in powers_of_ten]\n",
    "probabilities = [calculate_probability(int(s)) for s in simulations]\n",
    "\n",
    "# Plotting the probabilities\n",
    "plt.figure(figsize=(10, 6))\n",
    "plt.plot(powers_of_ten, probabilities, marker='o')\n",
    "plt.xscale('linear')\n",
    "plt.yscale('linear')\n",
    "plt.xlabel('Amount of simulation, to the power of 10')\n",
    "plt.ylabel('Probability')\n",
    "plt.title('Probability of Landing on Step 25')\n",
    "plt.grid(True)\n",
    "plt.show()\n",
    "\n",
    "# Printing the table\n",
    "print(\"Amount of simulation, to the power of 10\", \"Probability\", sep='\\t')\n",
    "for p, prob in zip(powers_of_ten, probabilities):\n",
    "    print(f\"{p:.1f}\", f\"{prob:.4f}\", sep='\\t\\t\\t')\n",
    "\n"
   ]
  },
  {
   "cell_type": "code",
   "execution_count": null,
   "id": "1497af87-3c28-4040-812b-880280378818",
   "metadata": {},
   "outputs": [],
   "source": []
  }
 ],
 "metadata": {
  "kernelspec": {
   "display_name": "Python 3 (ipykernel)",
   "language": "python",
   "name": "python3"
  },
  "language_info": {
   "codemirror_mode": {
    "name": "ipython",
    "version": 3
   },
   "file_extension": ".py",
   "mimetype": "text/x-python",
   "name": "python",
   "nbconvert_exporter": "python",
   "pygments_lexer": "ipython3",
   "version": "3.9.7"
  }
 },
 "nbformat": 4,
 "nbformat_minor": 5
}
