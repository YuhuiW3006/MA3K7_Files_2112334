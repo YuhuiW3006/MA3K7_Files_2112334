{
 "cells": [
  {
   "cell_type": "code",
   "execution_count": 19,
   "id": "775ea1f1-23d6-4a74-aa6f-da1fa0b4ee5f",
   "metadata": {},
   "outputs": [
    {
     "data": {
      "text/plain": [
       "(54,\n",
       " [[[0, 0, 0], [0, 1, 1], [1, 1, 1]],\n",
       "  [[0, 0, 0], [1, 0, 1], [1, 1, 1]],\n",
       "  [[0, 0, 0], [1, 1, 0], [1, 1, 1]],\n",
       "  [[0, 0, 0], [1, 1, 1], [0, 1, 1]],\n",
       "  [[0, 0, 0], [1, 1, 1], [1, 0, 1]]])"
      ]
     },
     "execution_count": 19,
     "metadata": {},
     "output_type": "execute_result"
    }
   ],
   "source": [
    "import numpy as np\n",
    "\n",
    "def determinant_3x3(matrix):\n",
    "    \"\"\"Calculate the determinant of a 3x3 matrix.\"\"\"\n",
    "    (a, b, c), (d, e, f), (g, h, i) = matrix\n",
    "    return a*(e*i - f*h) - b*(d*i - f*g) + c*(d*h - e*g)\n",
    "\n",
    "# Optimized matrix generation\n",
    "def generate_matrices():\n",
    "    matrices_3x3 = []\n",
    "    for matrix in np.ndindex(2, 2, 2, 2, 2, 2, 2, 2, 2):\n",
    "        reshaped_matrix = np.reshape(matrix, (3, 3))\n",
    "        if np.sum(reshaped_matrix) == 5 and determinant_3x3(reshaped_matrix) == 0:\n",
    "            matrices_3x3.append(reshaped_matrix.tolist())\n",
    "    return matrices_3x3\n",
    "\n",
    "matrices_3x3 = generate_matrices()\n",
    "\n",
    "# Output the number of matrices and the first few for brevity\n",
    "len(matrices_3x3), matrices_3x3[:5]\n"
   ]
  },
  {
   "cell_type": "code",
   "execution_count": 20,
   "id": "06d46914-757f-49f3-b541-f193b78ded23",
   "metadata": {},
   "outputs": [
    {
     "data": {
      "text/plain": [
       "True"
      ]
     },
     "execution_count": 20,
     "metadata": {},
     "output_type": "execute_result"
    }
   ],
   "source": [
    "# Assuming the functions `rotate_matrix` and `reflect_matrix` are required for D4 operations\n",
    "\n",
    "# Function to rotate the matrix 90 degrees k times\n",
    "def rotate_matrix(matrix, k):\n",
    "    return np.rot90(matrix, k)\n",
    "\n",
    "# Function to reflect the matrix over the specified axis\n",
    "def reflect_matrix(matrix, axis):\n",
    "    if axis == 'vertical':\n",
    "        return np.fliplr(matrix)\n",
    "    elif axis == 'horizontal':\n",
    "        return np.flipud(matrix)\n",
    "    elif axis == 'diagonal_main':\n",
    "        return np.transpose(matrix)\n",
    "    elif axis == 'diagonal_anti':\n",
    "        return np.fliplr(np.transpose(matrix))\n",
    "    else:\n",
    "        raise ValueError(\"Invalid axis\")\n",
    "\n",
    "# All operations in D4\n",
    "operations = [\n",
    "    ('rotate', 1), ('rotate', 2), ('rotate', 3),  # 90, 180, 270 degree rotations\n",
    "    ('reflect', 'vertical'), ('reflect', 'horizontal'),  # Reflections\n",
    "    ('reflect', 'diagonal_main'), ('reflect', 'diagonal_anti')  # Diagonal reflections\n",
    "]\n",
    "\n",
    "# Function to check if determinants are preserved under D4 operations\n",
    "def check_determinant_preservation(matrices):\n",
    "    for matrix in matrices:\n",
    "        np_matrix = np.array(matrix)\n",
    "        for op, param in operations:\n",
    "            if op == 'rotate':\n",
    "                transformed_matrix = rotate_matrix(np_matrix, param)\n",
    "            elif op == 'reflect':\n",
    "                transformed_matrix = reflect_matrix(np_matrix, param)\n",
    "            \n",
    "            if determinant_3x3(transformed_matrix) != 0:\n",
    "                return False\n",
    "    return True\n",
    "\n",
    "# Check the determinant preservation for the first few matrices\n",
    "determinant_preserved = check_determinant_preservation(matrices_3x3[:5])\n",
    "determinant_preserved\n"
   ]
  },
  {
   "cell_type": "code",
   "execution_count": 21,
   "id": "b2acbb81-2cd4-4fda-99c7-39f84780f82c",
   "metadata": {},
   "outputs": [
    {
     "data": {
      "text/plain": [
       "(12,\n",
       " [[[[0, 0, 0], [0, 1, 1], [1, 1, 1]],\n",
       "   [[0, 0, 0], [1, 1, 0], [1, 1, 1]],\n",
       "   [[0, 0, 1], [0, 1, 1], [0, 1, 1]],\n",
       "   [[0, 1, 1], [0, 1, 1], [0, 0, 1]],\n",
       "   [[1, 0, 0], [1, 1, 0], [1, 1, 0]],\n",
       "   [[1, 1, 0], [1, 1, 0], [1, 0, 0]],\n",
       "   [[1, 1, 1], [0, 1, 1], [0, 0, 0]],\n",
       "   [[1, 1, 1], [1, 1, 0], [0, 0, 0]]],\n",
       "  [[[0, 0, 0], [1, 0, 1], [1, 1, 1]],\n",
       "   [[0, 1, 1], [0, 0, 1], [0, 1, 1]],\n",
       "   [[1, 1, 0], [1, 0, 0], [1, 1, 0]],\n",
       "   [[1, 1, 1], [1, 0, 1], [0, 0, 0]]],\n",
       "  [[[0, 0, 0], [1, 1, 1], [0, 1, 1]],\n",
       "   [[0, 0, 0], [1, 1, 1], [1, 1, 0]],\n",
       "   [[0, 1, 0], [0, 1, 1], [0, 1, 1]],\n",
       "   [[0, 1, 0], [1, 1, 0], [1, 1, 0]],\n",
       "   [[0, 1, 1], [0, 1, 1], [0, 1, 0]],\n",
       "   [[0, 1, 1], [1, 1, 1], [0, 0, 0]],\n",
       "   [[1, 1, 0], [1, 1, 0], [0, 1, 0]],\n",
       "   [[1, 1, 0], [1, 1, 1], [0, 0, 0]]],\n",
       "  [[[0, 0, 0], [1, 1, 1], [1, 0, 1]],\n",
       "   [[0, 1, 1], [0, 1, 0], [0, 1, 1]],\n",
       "   [[1, 0, 1], [1, 1, 1], [0, 0, 0]],\n",
       "   [[1, 1, 0], [0, 1, 0], [1, 1, 0]]],\n",
       "  [[[0, 0, 1], [0, 0, 1], [1, 1, 1]],\n",
       "   [[1, 0, 0], [1, 0, 0], [1, 1, 1]],\n",
       "   [[1, 1, 1], [0, 0, 1], [0, 0, 1]],\n",
       "   [[1, 1, 1], [1, 0, 0], [1, 0, 0]]],\n",
       "  [[[0, 0, 1], [1, 0, 1], [1, 0, 1]],\n",
       "   [[0, 1, 1], [0, 0, 0], [1, 1, 1]],\n",
       "   [[1, 0, 0], [1, 0, 1], [1, 0, 1]],\n",
       "   [[1, 0, 1], [1, 0, 1], [0, 0, 1]],\n",
       "   [[1, 0, 1], [1, 0, 1], [1, 0, 0]],\n",
       "   [[1, 1, 0], [0, 0, 0], [1, 1, 1]],\n",
       "   [[1, 1, 1], [0, 0, 0], [0, 1, 1]],\n",
       "   [[1, 1, 1], [0, 0, 0], [1, 1, 0]]],\n",
       "  [[[0, 0, 1], [1, 1, 0], [1, 1, 0]],\n",
       "   [[0, 1, 1], [0, 1, 1], [1, 0, 0]],\n",
       "   [[1, 0, 0], [0, 1, 1], [0, 1, 1]],\n",
       "   [[1, 1, 0], [1, 1, 0], [0, 0, 1]]],\n",
       "  [[[0, 0, 1], [1, 1, 1], [0, 0, 1]],\n",
       "   [[0, 1, 0], [0, 1, 0], [1, 1, 1]],\n",
       "   [[1, 0, 0], [1, 1, 1], [1, 0, 0]],\n",
       "   [[1, 1, 1], [0, 1, 0], [0, 1, 0]]],\n",
       "  [[[0, 1, 0], [1, 0, 1], [1, 0, 1]],\n",
       "   [[0, 1, 1], [1, 0, 0], [0, 1, 1]],\n",
       "   [[1, 0, 1], [1, 0, 1], [0, 1, 0]],\n",
       "   [[1, 1, 0], [0, 0, 1], [1, 1, 0]]],\n",
       "  [[[0, 1, 0], [1, 1, 1], [0, 1, 0]]],\n",
       "  [[[1, 0, 1], [0, 0, 0], [1, 1, 1]],\n",
       "   [[1, 0, 1], [0, 0, 1], [1, 0, 1]],\n",
       "   [[1, 0, 1], [1, 0, 0], [1, 0, 1]],\n",
       "   [[1, 1, 1], [0, 0, 0], [1, 0, 1]]],\n",
       "  [[[1, 0, 1], [0, 1, 0], [1, 0, 1]]]])"
      ]
     },
     "execution_count": 21,
     "metadata": {},
     "output_type": "execute_result"
    }
   ],
   "source": [
    "# Function to check if two matrices are equivalent under D4 operations\n",
    "def are_matrices_equivalent(matrix1, matrix2):\n",
    "    np_matrix1 = np.array(matrix1)\n",
    "    for op, param in operations:\n",
    "        if op == 'rotate':\n",
    "            transformed_matrix = rotate_matrix(np_matrix1, param)\n",
    "        elif op == 'reflect':\n",
    "            transformed_matrix = reflect_matrix(np_matrix1, param)\n",
    "\n",
    "        if np.array_equal(transformed_matrix, np.array(matrix2)):\n",
    "            return True\n",
    "    return False\n",
    "\n",
    "# Function to classify matrices into kinds based on D4 operations equivalence\n",
    "def classify_matrices(matrices):\n",
    "    kinds = []\n",
    "    for matrix in matrices:\n",
    "        # Check if the matrix is already classified\n",
    "        already_classified = False\n",
    "        for kind in kinds:\n",
    "            if any(are_matrices_equivalent(matrix, kind_matrix) for kind_matrix in kind):\n",
    "                kind.append(matrix)\n",
    "                already_classified = True\n",
    "                break\n",
    "        \n",
    "        # If not classified, create a new kind\n",
    "        if not already_classified:\n",
    "            kinds.append([matrix])\n",
    "\n",
    "    return len(kinds), kinds\n",
    "\n",
    "# Classifying the first few matrices\n",
    "num_kinds, kinds = classify_matrices(matrices_3x3[:])\n",
    "num_kinds, kinds\n"
   ]
  },
  {
   "cell_type": "code",
   "execution_count": null,
   "id": "f801288a-b0eb-4f9b-ad64-9a998f56dff8",
   "metadata": {},
   "outputs": [],
   "source": []
  },
  {
   "cell_type": "code",
   "execution_count": null,
   "id": "d2d7ccdd-2c17-46e9-a6c0-eb5c06c145a2",
   "metadata": {},
   "outputs": [],
   "source": []
  }
 ],
 "metadata": {
  "kernelspec": {
   "display_name": "Python 3 (ipykernel)",
   "language": "python",
   "name": "python3"
  },
  "language_info": {
   "codemirror_mode": {
    "name": "ipython",
    "version": 3
   },
   "file_extension": ".py",
   "mimetype": "text/x-python",
   "name": "python",
   "nbconvert_exporter": "python",
   "pygments_lexer": "ipython3",
   "version": "3.9.7"
  }
 },
 "nbformat": 4,
 "nbformat_minor": 5
}
