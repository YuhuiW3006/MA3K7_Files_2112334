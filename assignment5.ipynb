{
 "cells": [
  {
   "cell_type": "code",
   "execution_count": 7,
   "id": "d65af0ba-c67e-4157-b900-f13b79fe7b13",
   "metadata": {},
   "outputs": [
    {
     "data": {
      "text/plain": [
       "[[5, 20, 15, 10, 7],\n",
       " [14, 9, 6, 21, 16],\n",
       " [19, 4, 25, 8, 11],\n",
       " [24, 13, 2, 17, 22],\n",
       " [3, 18, 23, 12, 1]]"
      ]
     },
     "execution_count": 7,
     "metadata": {},
     "output_type": "execute_result"
    }
   ],
   "source": [
    "import random\n",
    "\n",
    "def is_valid_move(board, row, col):\n",
    "    \"\"\" Check if a move is valid \"\"\"\n",
    "    return (row >= 0 and col >= 0) and (row < 5 and col < 5) and (board[row][col] == 0)\n",
    "\n",
    "def get_possible_moves(board, row, col):\n",
    "    \"\"\" Get all possible moves from a given position \"\"\"\n",
    "    possible_moves = []\n",
    "    move_offsets = [(-2, -1), (-1, -2), (1, -2), (2, -1), (2, 1), (1, 2), (-1, 2), (-2, 1)]\n",
    "\n",
    "    for move in move_offsets:\n",
    "        new_row, new_col = row + move[0], col + move[1]\n",
    "        if is_valid_move(board, new_row, new_col):\n",
    "            possible_moves.append((new_row, new_col))\n",
    "\n",
    "    return possible_moves\n",
    "\n",
    "def solve_knights_tour():\n",
    "    \"\"\" Find a solution for the Knight's Tour problem \"\"\"\n",
    "    board = [[0 for _ in range(5)] for _ in range(5)]\n",
    "    current_row, current_col = random.randint(0, 4), random.randint(0, 4)\n",
    "    board[current_row][current_col] = 1\n",
    "\n",
    "    for step in range(2, 26):\n",
    "        moves = get_possible_moves(board, current_row, current_col)\n",
    "        if not moves:  # No more valid moves, restart\n",
    "            return solve_knights_tour()\n",
    "        move = random.choice(moves)  # Choose a random move\n",
    "        current_row, current_col = move\n",
    "        board[current_row][current_col] = step\n",
    "\n",
    "    return board\n",
    "\n",
    "# Generate a solution\n",
    "knight_tour_solution = solve_knights_tour()\n",
    "knight_tour_solution\n"
   ]
  },
  {
   "cell_type": "code",
   "execution_count": null,
   "id": "59a1770f-82aa-444b-b354-c18a8560dec5",
   "metadata": {},
   "outputs": [],
   "source": []
  }
 ],
 "metadata": {
  "kernelspec": {
   "display_name": "Python 3 (ipykernel)",
   "language": "python",
   "name": "python3"
  },
  "language_info": {
   "codemirror_mode": {
    "name": "ipython",
    "version": 3
   },
   "file_extension": ".py",
   "mimetype": "text/x-python",
   "name": "python",
   "nbconvert_exporter": "python",
   "pygments_lexer": "ipython3",
   "version": "3.9.7"
  }
 },
 "nbformat": 4,
 "nbformat_minor": 5
}
