{
 "cells": [
  {
   "cell_type": "code",
   "execution_count": 29,
   "id": "3387a2d6-03eb-4e24-9b8b-9ded436c786b",
   "metadata": {},
   "outputs": [
    {
     "name": "stdin",
     "output_type": "stream",
     "text": [
      "Enter a natural number (x) between 0 and 9:  0\n",
      "Enter another natural number (y) between 0 and 9:  1\n",
      "Enter the desired output length:  100\n"
     ]
    },
    {
     "name": "stdout",
     "output_type": "stream",
     "text": [
      "[0, 1, 1, 2, 3, 5, 8, 3, 1, 4, 5, 9, 4, 3, 7, 0, 7, 7, 4, 1, 5, 6, 1, 7, 8, 5, 3, 8, 1, 9, 0, 9, 9, 8, 7, 5, 2, 7, 9, 6, 5, 1, 6, 7, 3, 0, 3, 3, 6, 9, 5, 4, 9, 3, 2, 5, 7, 2, 9, 1, 0, 1, 1, 2, 3, 5, 8, 3, 1, 4, 5, 9, 4, 3, 7, 0, 7, 7, 4, 1, 5, 6, 1, 7, 8, 5, 3, 8, 1, 9, 0, 9, 9, 8, 7, 5, 2, 7, 9, 6]\n"
     ]
    }
   ],
   "source": [
    "def preview():\n",
    "    # Input x and y within the range [0, 9]\n",
    "    x = int(input(\"Enter a natural number (x) between 0 and 9: \"))\n",
    "    y = int(input(\"Enter another natural number (y) between 0 and 9: \"))\n",
    "\n",
    "    # Input the desired output length\n",
    "    length = int(input(\"Enter the desired output length: \"))\n",
    "\n",
    "    result = [x, y]\n",
    "\n",
    "    for i in range(2, length):\n",
    "        next_entry = (result[i-1] + result[i-2]) % 10\n",
    "        result.append(next_entry)\n",
    "\n",
    "    return result\n",
    "\n",
    "# Example usage:\n",
    "output_sequence = preview()\n",
    "\n",
    "# Print the result\n",
    "print(output_sequence)\n"
   ]
  },
  {
   "cell_type": "code",
   "execution_count": 24,
   "id": "b1776989-066d-4757-92a1-51773843ec8b",
   "metadata": {},
   "outputs": [
    {
     "name": "stdin",
     "output_type": "stream",
     "text": [
      "Enter a natural number (x) between 0 and 9:  0\n",
      "Enter another natural number (y) between 0 and 9:  1\n"
     ]
    },
    {
     "name": "stdout",
     "output_type": "stream",
     "text": [
      "The cyclic length is 60.\n"
     ]
    }
   ],
   "source": [
    "def cycle_length():\n",
    "    # Input x and y within the range [0, 9]\n",
    "    x = int(input(\"Enter a natural number (x) between 0 and 9: \"))\n",
    "    y = int(input(\"Enter another natural number (y) between 0 and 9: \"))\n",
    "\n",
    "    # Input the desired output length\n",
    "    length = 100\n",
    "\n",
    "    result = [x, y]\n",
    "\n",
    "    for i in range(2, length):\n",
    "        next_entry = (result[i-1] + result[i-2]) % 10\n",
    "        result.append(next_entry)\n",
    "\n",
    "        # Check for the first pair matching (x, y)\n",
    "        if i > 2 and result[i - 2] == x and result[i - 1] == y:\n",
    "            cyclic_length = i - 2\n",
    "            print(f\"The cyclic length is {cyclic_length}.\")\n",
    "            return\n",
    "\n",
    "    print(\"No cycles found.\")\n",
    "\n",
    "# Example usage:\n",
    "cycle_length()\n"
   ]
  },
  {
   "cell_type": "code",
   "execution_count": 28,
   "id": "6334ecc1-f519-4f9b-82e2-5506377694e4",
   "metadata": {
    "tags": []
   },
   "outputs": [
    {
     "name": "stdout",
     "output_type": "stream",
     "text": [
      "Input (x, y) | Cycle Length\n",
      "------------------------------\n",
      "(0, 0)        | 1\n",
      "(0, 1)        | 60\n",
      "(0, 2)        | 20\n",
      "(0, 3)        | 60\n",
      "(0, 4)        | 20\n",
      "(0, 5)        | 3\n",
      "(0, 6)        | 20\n",
      "(0, 7)        | 60\n",
      "(0, 8)        | 20\n",
      "(0, 9)        | 60\n",
      "(1, 0)        | 60\n",
      "(1, 1)        | 60\n",
      "(1, 2)        | 60\n",
      "(1, 3)        | 12\n",
      "(1, 4)        | 60\n",
      "(1, 5)        | 60\n",
      "(1, 6)        | 60\n",
      "(1, 7)        | 60\n",
      "(1, 8)        | 12\n",
      "(1, 9)        | 60\n",
      "(2, 0)        | 20\n",
      "(2, 1)        | 12\n",
      "(2, 2)        | 20\n",
      "(2, 3)        | 60\n",
      "(2, 4)        | 20\n",
      "(2, 5)        | 60\n",
      "(2, 6)        | 4\n",
      "(2, 7)        | 60\n",
      "(2, 8)        | 20\n",
      "(2, 9)        | 60\n",
      "(3, 0)        | 60\n",
      "(3, 1)        | 60\n",
      "(3, 2)        | 60\n",
      "(3, 3)        | 60\n",
      "(3, 4)        | 12\n",
      "(3, 5)        | 60\n",
      "(3, 6)        | 60\n",
      "(3, 7)        | 60\n",
      "(3, 8)        | 60\n",
      "(3, 9)        | 12\n",
      "(4, 0)        | 20\n",
      "(4, 1)        | 60\n",
      "(4, 2)        | 4\n",
      "(4, 3)        | 60\n",
      "(4, 4)        | 20\n",
      "(4, 5)        | 60\n",
      "(4, 6)        | 20\n",
      "(4, 7)        | 12\n",
      "(4, 8)        | 20\n",
      "(4, 9)        | 60\n",
      "(5, 0)        | 3\n",
      "(5, 1)        | 60\n",
      "(5, 2)        | 60\n",
      "(5, 3)        | 60\n",
      "(5, 4)        | 60\n",
      "(5, 5)        | 3\n",
      "(5, 6)        | 60\n",
      "(5, 7)        | 60\n",
      "(5, 8)        | 60\n",
      "(5, 9)        | 60\n",
      "(6, 0)        | 20\n",
      "(6, 1)        | 60\n",
      "(6, 2)        | 20\n",
      "(6, 3)        | 12\n",
      "(6, 4)        | 20\n",
      "(6, 5)        | 60\n",
      "(6, 6)        | 20\n",
      "(6, 7)        | 60\n",
      "(6, 8)        | 4\n",
      "(6, 9)        | 60\n",
      "(7, 0)        | 60\n",
      "(7, 1)        | 12\n",
      "(7, 2)        | 60\n",
      "(7, 3)        | 60\n",
      "(7, 4)        | 60\n",
      "(7, 5)        | 60\n",
      "(7, 6)        | 12\n",
      "(7, 7)        | 60\n",
      "(7, 8)        | 60\n",
      "(7, 9)        | 60\n",
      "(8, 0)        | 20\n",
      "(8, 1)        | 60\n",
      "(8, 2)        | 20\n",
      "(8, 3)        | 60\n",
      "(8, 4)        | 4\n",
      "(8, 5)        | 60\n",
      "(8, 6)        | 20\n",
      "(8, 7)        | 60\n",
      "(8, 8)        | 20\n",
      "(8, 9)        | 12\n",
      "(9, 0)        | 60\n",
      "(9, 1)        | 60\n",
      "(9, 2)        | 12\n",
      "(9, 3)        | 60\n",
      "(9, 4)        | 60\n",
      "(9, 5)        | 60\n",
      "(9, 6)        | 60\n",
      "(9, 7)        | 12\n",
      "(9, 8)        | 60\n",
      "(9, 9)        | 60\n"
     ]
    }
   ],
   "source": [
    "def cycle_length(x, y):\n",
    "    result = [x, y]\n",
    "\n",
    "    for i in range(2, 100):\n",
    "        next_entry = (result[i-1] + result[i-2]) % 10\n",
    "        result.append(next_entry)\n",
    "\n",
    "        # Check for the first pair matching (x, y)\n",
    "        if i > 2 and result[i - 2] == x and result[i - 1] == y:\n",
    "            cyclic_length = i - 2\n",
    "            return cyclic_length\n",
    "\n",
    "    return 0\n",
    "\n",
    "# Print table header\n",
    "print(\"Input (x, y) | Cycle Length\")\n",
    "print(\"-\" * 30)\n",
    "\n",
    "# Generate input-output list and print results\n",
    "for x in range(10):\n",
    "    for y in range(10):\n",
    "        cycle_length_result = cycle_length(x, y)\n",
    "        print(f\"({x}, {y})        | {cycle_length_result}\")\n"
   ]
  },
  {
   "cell_type": "code",
   "execution_count": null,
   "id": "48c3644a-a834-432f-bfcc-05c1bec16cef",
   "metadata": {},
   "outputs": [],
   "source": []
  }
 ],
 "metadata": {
  "kernelspec": {
   "display_name": "Python 3 (ipykernel)",
   "language": "python",
   "name": "python3"
  },
  "language_info": {
   "codemirror_mode": {
    "name": "ipython",
    "version": 3
   },
   "file_extension": ".py",
   "mimetype": "text/x-python",
   "name": "python",
   "nbconvert_exporter": "python",
   "pygments_lexer": "ipython3",
   "version": "3.9.7"
  }
 },
 "nbformat": 4,
 "nbformat_minor": 5
}
