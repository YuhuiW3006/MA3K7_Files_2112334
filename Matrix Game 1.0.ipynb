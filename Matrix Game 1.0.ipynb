{
 "cells": [
  {
   "cell_type": "code",
   "execution_count": 1,
   "id": "66acd418-8536-46b7-83a6-fedcff63f865",
   "metadata": {},
   "outputs": [
    {
     "name": "stdin",
     "output_type": "stream",
     "text": [
      "Enter the size of the matrix (n):  4\n",
      "Who goes first, A (0) or B (1)?  B\n"
     ]
    },
    {
     "name": "stdout",
     "output_type": "stream",
     "text": [
      "\n",
      "Current state of the board:\n",
      "[['_' '_' '_' '_']\n",
      " ['_' '_' '_' '_']\n",
      " ['_' '_' '_' '_']\n",
      " ['_' '_' '_' '_']]\n",
      "Player B's turn (1).\n"
     ]
    },
    {
     "name": "stdin",
     "output_type": "stream",
     "text": [
      "Enter row number:  0\n",
      "Enter column number:  0\n"
     ]
    },
    {
     "name": "stdout",
     "output_type": "stream",
     "text": [
      "\n",
      "Current state of the board:\n",
      "[['1' '_' '_' '_']\n",
      " ['_' '_' '_' '_']\n",
      " ['_' '_' '_' '_']\n",
      " ['_' '_' '_' '_']]\n",
      "Player A's turn (0).\n"
     ]
    },
    {
     "name": "stdin",
     "output_type": "stream",
     "text": [
      "Enter row number:  1\n",
      "Enter column number:  1\n"
     ]
    },
    {
     "name": "stdout",
     "output_type": "stream",
     "text": [
      "\n",
      "Current state of the board:\n",
      "[['1' '_' '_' '_']\n",
      " ['_' '0' '_' '_']\n",
      " ['_' '_' '_' '_']\n",
      " ['_' '_' '_' '_']]\n",
      "Player B's turn (1).\n"
     ]
    },
    {
     "name": "stdin",
     "output_type": "stream",
     "text": [
      "Enter row number:  2\n",
      "Enter column number:  1\n"
     ]
    },
    {
     "name": "stdout",
     "output_type": "stream",
     "text": [
      "\n",
      "Current state of the board:\n",
      "[['1' '_' '_' '_']\n",
      " ['_' '0' '_' '_']\n",
      " ['_' '1' '_' '_']\n",
      " ['_' '_' '_' '_']]\n",
      "Player A's turn (0).\n"
     ]
    },
    {
     "name": "stdin",
     "output_type": "stream",
     "text": [
      "Enter row number:  3\n",
      "Enter column number:  2\n"
     ]
    },
    {
     "name": "stdout",
     "output_type": "stream",
     "text": [
      "\n",
      "Current state of the board:\n",
      "[['1' '_' '_' '_']\n",
      " ['_' '0' '_' '_']\n",
      " ['_' '1' '_' '_']\n",
      " ['_' '_' '0' '_']]\n",
      "Player B's turn (1).\n"
     ]
    },
    {
     "name": "stdin",
     "output_type": "stream",
     "text": [
      "Enter row number:  1\n",
      "Enter column number:  2\n"
     ]
    },
    {
     "name": "stdout",
     "output_type": "stream",
     "text": [
      "\n",
      "Current state of the board:\n",
      "[['1' '_' '_' '_']\n",
      " ['_' '0' '1' '_']\n",
      " ['_' '1' '_' '_']\n",
      " ['_' '_' '0' '_']]\n",
      "Player A's turn (0).\n"
     ]
    },
    {
     "name": "stdin",
     "output_type": "stream",
     "text": [
      "Enter row number:  3\n",
      "Enter column number:  3\n"
     ]
    },
    {
     "name": "stdout",
     "output_type": "stream",
     "text": [
      "\n",
      "Current state of the board:\n",
      "[['1' '_' '_' '_']\n",
      " ['_' '0' '1' '_']\n",
      " ['_' '1' '_' '_']\n",
      " ['_' '_' '0' '0']]\n",
      "Player B's turn (1).\n"
     ]
    },
    {
     "name": "stdin",
     "output_type": "stream",
     "text": [
      "Enter row number:  3\n",
      "Enter column number:  0\n"
     ]
    },
    {
     "name": "stdout",
     "output_type": "stream",
     "text": [
      "\n",
      "Current state of the board:\n",
      "[['1' '_' '_' '_']\n",
      " ['_' '0' '1' '_']\n",
      " ['_' '1' '_' '_']\n",
      " ['1' '_' '0' '0']]\n",
      "Player A's turn (0).\n"
     ]
    },
    {
     "name": "stdin",
     "output_type": "stream",
     "text": [
      "Enter row number:  0\n",
      "Enter column number:  3\n"
     ]
    },
    {
     "name": "stdout",
     "output_type": "stream",
     "text": [
      "\n",
      "Current state of the board:\n",
      "[['1' '_' '_' '0']\n",
      " ['_' '0' '1' '_']\n",
      " ['_' '1' '_' '_']\n",
      " ['1' '_' '0' '0']]\n",
      "Player B's turn (1).\n"
     ]
    },
    {
     "name": "stdin",
     "output_type": "stream",
     "text": [
      "Enter row number:  2\n",
      "Enter column number:  3\n"
     ]
    },
    {
     "name": "stdout",
     "output_type": "stream",
     "text": [
      "\n",
      "Current state of the board:\n",
      "[['1' '_' '_' '0']\n",
      " ['_' '0' '1' '_']\n",
      " ['_' '1' '_' '1']\n",
      " ['1' '_' '0' '0']]\n",
      "Player A's turn (0).\n"
     ]
    },
    {
     "name": "stdin",
     "output_type": "stream",
     "text": [
      "Enter row number:  1\n",
      "Enter column number:  0\n"
     ]
    },
    {
     "name": "stdout",
     "output_type": "stream",
     "text": [
      "\n",
      "Current state of the board:\n",
      "[['1' '_' '_' '0']\n",
      " ['0' '0' '1' '_']\n",
      " ['_' '1' '_' '1']\n",
      " ['1' '_' '0' '0']]\n",
      "Player B's turn (1).\n"
     ]
    },
    {
     "name": "stdin",
     "output_type": "stream",
     "text": [
      "Enter row number:  2\n",
      "Enter column number:  2\n"
     ]
    },
    {
     "name": "stdout",
     "output_type": "stream",
     "text": [
      "\n",
      "Current state of the board:\n",
      "[['1' '_' '_' '0']\n",
      " ['0' '0' '1' '_']\n",
      " ['_' '1' '1' '1']\n",
      " ['1' '_' '0' '0']]\n",
      "Player A's turn (0).\n"
     ]
    },
    {
     "name": "stdin",
     "output_type": "stream",
     "text": [
      "Enter row number:  0\n",
      "Enter column number:  3\n"
     ]
    },
    {
     "name": "stdout",
     "output_type": "stream",
     "text": [
      "Invalid move. Try again.\n",
      "\n",
      "Current state of the board:\n",
      "[['1' '_' '_' '0']\n",
      " ['0' '0' '1' '_']\n",
      " ['_' '1' '1' '1']\n",
      " ['1' '_' '0' '0']]\n",
      "Player A's turn (0).\n"
     ]
    },
    {
     "name": "stdin",
     "output_type": "stream",
     "text": [
      "Enter row number:  0\n",
      "Enter column number:  2\n"
     ]
    },
    {
     "name": "stdout",
     "output_type": "stream",
     "text": [
      "\n",
      "Current state of the board:\n",
      "[['1' '_' '0' '0']\n",
      " ['0' '0' '1' '_']\n",
      " ['_' '1' '1' '1']\n",
      " ['1' '_' '0' '0']]\n",
      "Player B's turn (1).\n"
     ]
    },
    {
     "name": "stdin",
     "output_type": "stream",
     "text": [
      "Enter row number:  0\n",
      "Enter column number:  1\n"
     ]
    },
    {
     "name": "stdout",
     "output_type": "stream",
     "text": [
      "\n",
      "Current state of the board:\n",
      "[['1' '1' '0' '0']\n",
      " ['0' '0' '1' '_']\n",
      " ['_' '1' '1' '1']\n",
      " ['1' '_' '0' '0']]\n",
      "Player A's turn (0).\n"
     ]
    },
    {
     "name": "stdin",
     "output_type": "stream",
     "text": [
      "Enter row number:  2\n",
      "Enter column number:  0\n"
     ]
    },
    {
     "name": "stdout",
     "output_type": "stream",
     "text": [
      "\n",
      "Current state of the board:\n",
      "[['1' '1' '0' '0']\n",
      " ['0' '0' '1' '_']\n",
      " ['0' '1' '1' '1']\n",
      " ['1' '_' '0' '0']]\n",
      "Player B's turn (1).\n"
     ]
    },
    {
     "name": "stdin",
     "output_type": "stream",
     "text": [
      "Enter row number:  1\n",
      "Enter column number:  3\n"
     ]
    },
    {
     "name": "stdout",
     "output_type": "stream",
     "text": [
      "\n",
      "Current state of the board:\n",
      "[['1' '1' '0' '0']\n",
      " ['0' '0' '1' '1']\n",
      " ['0' '1' '1' '1']\n",
      " ['1' '_' '0' '0']]\n",
      "Player A's turn (0).\n"
     ]
    },
    {
     "name": "stdin",
     "output_type": "stream",
     "text": [
      "Enter row number:  3\n",
      "Enter column number:  1\n"
     ]
    },
    {
     "name": "stdout",
     "output_type": "stream",
     "text": [
      "\n",
      "Current state of the board:\n",
      "[['1' '1' '0' '0']\n",
      " ['0' '0' '1' '1']\n",
      " ['0' '1' '1' '1']\n",
      " ['1' '0' '0' '0']]\n",
      "Player A wins! (Determinant is 0)\n"
     ]
    }
   ],
   "source": [
    "import numpy as np\n",
    "\n",
    "def create_matrix(n):\n",
    "    \"\"\"Create an n x n matrix filled with -1, indicating empty spaces.\"\"\"\n",
    "    return np.full((n, n), -1)\n",
    "\n",
    "def print_matrix(matrix):\n",
    "    \"\"\"Print the matrix in a readable format.\"\"\"\n",
    "    print_matrix = np.where(matrix == -1, '_', matrix)  # Replace -1 with '_' for display\n",
    "    print(\"\\nCurrent state of the board:\")\n",
    "    print(print_matrix)\n",
    "\n",
    "def is_valid_move(matrix, row, col):\n",
    "    \"\"\"Check if the chosen move is valid (within the grid and on an empty space).\"\"\"\n",
    "    n = len(matrix)\n",
    "    return 0 <= row < n and 0 <= col < n and matrix[row, col] == -1\n",
    "\n",
    "def make_move(matrix, player, row, col):\n",
    "    \"\"\"Place the player's number (0 or 1) on the board.\"\"\"\n",
    "    matrix[row, col] = player\n",
    "\n",
    "def is_full(matrix):\n",
    "    \"\"\"Check if the matrix is full.\"\"\"\n",
    "    return np.all(matrix != -1)\n",
    "\n",
    "def calculate_determinant(matrix):\n",
    "    \"\"\"Calculate the determinant of the matrix.\"\"\"\n",
    "    return np.linalg.det(matrix)\n",
    "\n",
    "def matrix_game():\n",
    "    # Game Initialization\n",
    "    n = int(input(\"Enter the size of the matrix (n): \"))\n",
    "    matrix = create_matrix(n)\n",
    "\n",
    "    first_player = input(\"Who goes first, A (0) or B (1)? \").strip().lower()\n",
    "    player_A_turn = first_player == 'a'\n",
    "\n",
    "    # Game Play\n",
    "    while not is_full(matrix):\n",
    "        print_matrix(matrix)\n",
    "        if player_A_turn:\n",
    "            print(\"Player A's turn (0).\")\n",
    "        else:\n",
    "            print(\"Player B's turn (1).\")\n",
    "\n",
    "        # Get player's move\n",
    "        try:\n",
    "            row = int(input(\"Enter row number: \"))\n",
    "            col = int(input(\"Enter column number: \"))\n",
    "            if is_valid_move(matrix, row, col):\n",
    "                make_move(matrix, 0 if player_A_turn else 1, row, col)\n",
    "                player_A_turn = not player_A_turn  # Switch turns\n",
    "            else:\n",
    "                print(\"Invalid move. Try again.\")\n",
    "        except ValueError:\n",
    "            print(\"Invalid input. Please enter numbers.\")\n",
    "\n",
    "    # Determine Winner\n",
    "    print_matrix(matrix)\n",
    "    if calculate_determinant(matrix) == 0:\n",
    "        print(\"Player A wins! (Determinant is 0)\")\n",
    "    else:\n",
    "        print(\"Player B wins! (Determinant is not 0)\")\n",
    "\n",
    "# Start the game\n",
    "matrix_game()\n",
    "\n",
    "# Possible Improvements: \n",
    "# Note that if you want to input your figure into row a, column b, you need to input row number as \"(a-1)\" and column number as \"(b-1)\", this is a small flaw. \n",
    "# This programme does not have a \"regret chess\" mechanism. \n"
   ]
  },
  {
   "cell_type": "code",
   "execution_count": null,
   "id": "d4408585-7fca-4eba-8fec-17846c71f02d",
   "metadata": {},
   "outputs": [],
   "source": []
  }
 ],
 "metadata": {
  "kernelspec": {
   "display_name": "Python 3 (ipykernel)",
   "language": "python",
   "name": "python3"
  },
  "language_info": {
   "codemirror_mode": {
    "name": "ipython",
    "version": 3
   },
   "file_extension": ".py",
   "mimetype": "text/x-python",
   "name": "python",
   "nbconvert_exporter": "python",
   "pygments_lexer": "ipython3",
   "version": "3.9.7"
  }
 },
 "nbformat": 4,
 "nbformat_minor": 5
}
