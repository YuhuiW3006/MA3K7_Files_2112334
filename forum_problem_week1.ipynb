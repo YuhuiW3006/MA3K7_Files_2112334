{
 "cells": [
  {
   "cell_type": "code",
   "execution_count": 10,
   "id": "664d1f9f-9165-45d1-9c23-5d59b62617d2",
   "metadata": {},
   "outputs": [
    {
     "name": "stdin",
     "output_type": "stream",
     "text": [
      "Enter a positive integer m:  2\n",
      "Enter a positive integer n (m should be greater than or equal to n):  1\n"
     ]
    },
    {
     "name": "stdout",
     "output_type": "stream",
     "text": [
      "The amount of squares for grid-configuration (2, 1) is: 2\n"
     ]
    }
   ],
   "source": [
    "def S(m, n):\n",
    "    result = sum((m - i) * (n - i) for i in range(n))\n",
    "    return result\n",
    "\n",
    "# Interface\n",
    "m = int(input(\"Enter a positive integer m: \"))\n",
    "n = int(input(\"Enter a positive integer n (m should be greater than or equal to n): \"))\n",
    "\n",
    "if m < n:\n",
    "    print(\"Please ensure m is greater than or equal to n.\")\n",
    "else:\n",
    "    output = S(m, n)\n",
    "    print(f\"The amount of squares for grid-configuration ({m}, {n}) is: {output}\")"
   ]
  },
  {
   "cell_type": "code",
   "execution_count": 12,
   "id": "85c5fafb-b983-4d66-815a-77a42e9b205d",
   "metadata": {},
   "outputs": [
    {
     "name": "stdout",
     "output_type": "stream",
     "text": [
      "All possible pairs of (m, n) with output 100: [(8, 5), (11, 4), (100, 1)]\n"
     ]
    }
   ],
   "source": [
    "def S(m, n):\n",
    "    return sum((m - i) * (n - i) for i in range(n))\n",
    "\n",
    "target_output = 100\n",
    "valid_pairs = []\n",
    "\n",
    "for m in range(target_output + 1):\n",
    "    for n in range(1, m + 1):\n",
    "        if S(m, n) == target_output:\n",
    "            valid_pairs.append((m, n))\n",
    "\n",
    "print(f\"All possible pairs of (m, n) with output 100: {valid_pairs}\")\n"
   ]
  },
  {
   "cell_type": "code",
   "execution_count": null,
   "id": "f22e57ef-c630-48cb-b6ea-d9be4e8f8844",
   "metadata": {},
   "outputs": [],
   "source": [
    " "
   ]
  }
 ],
 "metadata": {
  "kernelspec": {
   "display_name": "Python 3 (ipykernel)",
   "language": "python",
   "name": "python3"
  },
  "language_info": {
   "codemirror_mode": {
    "name": "ipython",
    "version": 3
   },
   "file_extension": ".py",
   "mimetype": "text/x-python",
   "name": "python",
   "nbconvert_exporter": "python",
   "pygments_lexer": "ipython3",
   "version": "3.9.7"
  }
 },
 "nbformat": 4,
 "nbformat_minor": 5
}
