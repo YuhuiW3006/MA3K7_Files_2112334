{
 "cells": [
  {
   "cell_type": "markdown",
   "id": "b55748fd-403b-4c74-aa76-c4268cadf7de",
   "metadata": {},
   "source": [
    "# Big Mini Project Code\n",
    "## Student ID: 2112334"
   ]
  },
  {
   "cell_type": "markdown",
   "id": "eec85bba-fe94-4c2a-af34-db4e256e694e",
   "metadata": {},
   "source": [
    "# Program1: "
   ]
  },
  {
   "cell_type": "code",
   "execution_count": 7,
   "id": "b6bd749b-88fa-45ed-9095-b6555518c923",
   "metadata": {},
   "outputs": [
    {
     "name": "stdin",
     "output_type": "stream",
     "text": [
      "Enter the number of each type of particle (n):  20\n",
      "Enter the number of collisions (k):  1000\n"
     ]
    },
    {
     "name": "stdout",
     "output_type": "stream",
     "text": [
      "Final Particles: ['B19', 'A2', 'B19', 'B16', 'B4', 'C5', 'C11', 'A13', 'B15', 'B15', 'A2', 'C19', 'B17', 'B10', 'C3', 'B9', 'B20', 'A11', 'A10', 'B20', 'A14', 'A5', 'C17', 'C6', 'A6', 'B14', 'B12', 'C8', 'B5', 'B18', 'A18', 'C4', 'B16', 'B8', 'B6', 'A17', 'A13', 'B1', 'B14', 'A7', 'A2', 'B11', 'B18', 'A9', 'B20', 'B12', 'A8', 'A16', 'C1', 'C3', 'B7', 'B10', 'B7', 'B15', 'B1', 'B4', 'A12', 'A13', 'C3', 'C9']\n",
      "Amount of Particle A remained: 18\n",
      "Amount of Particle B remained: 30\n",
      "Amount of Particle C remained: 12\n"
     ]
    }
   ],
   "source": [
    "import random\n",
    "\n",
    "def particle_collision_corrected(n, k):\n",
    "    # Create initial particles\n",
    "    particles = [f\"A{i}\" for i in range(1, n + 1)] + [f\"B{i}\" for i in range(1, n + 1)] + [f\"C{i}\" for i in range(1, n + 1)]\n",
    "\n",
    "    for _ in range(k):\n",
    "        # Select two random particles\n",
    "        particle1, particle2 = random.sample(particles, 2)\n",
    "\n",
    "        # Check if they are different and process the collision\n",
    "        if particle1[0] != particle2[0]:\n",
    "            new_species = ({\"A\", \"B\", \"C\"} - {particle1[0], particle2[0]}).pop()\n",
    "            new_particle1 = new_species + particle1[1:]\n",
    "            new_particle2 = new_species + particle2[1:]\n",
    "\n",
    "            # Replace the old particles with the new ones\n",
    "            particles.remove(particle1)\n",
    "            particles.remove(particle2)\n",
    "            particles.append(new_particle1)\n",
    "            particles.append(new_particle2)\n",
    "\n",
    "    # Count remaining particles of each type\n",
    "    count_A = sum(p.startswith(\"A\") for p in particles)\n",
    "    count_B = sum(p.startswith(\"B\") for p in particles)\n",
    "    count_C = sum(p.startswith(\"C\") for p in particles)\n",
    "\n",
    "    return particles, count_A, count_B, count_C\n",
    "\n",
    "# Set your parameters\n",
    "n = int(input(\"Enter the number of each type of particle (n): \"))\n",
    "k = int(input(\"Enter the number of collisions (k): \"))\n",
    "\n",
    "# Execute the simulation\n",
    "result_particles, count_A, count_B, count_C = particle_collision_corrected(n, k)\n",
    "\n",
    "# Print the results\n",
    "print(\"Final Particles:\", result_particles)\n",
    "print(\"Amount of Particle A remained:\", count_A)\n",
    "print(\"Amount of Particle B remained:\", count_B)\n",
    "print(\"Amount of Particle C remained:\", count_C)\n"
   ]
  },
  {
   "cell_type": "markdown",
   "id": "bfcdff5d-6b8b-4540-a2e3-e266b8aba074",
   "metadata": {},
   "source": [
    "## Program1 (fast panel): "
   ]
  },
  {
   "cell_type": "code",
   "execution_count": 17,
   "id": "00e032dc-3696-43d8-80b7-5c17435911a4",
   "metadata": {},
   "outputs": [
    {
     "name": "stdout",
     "output_type": "stream",
     "text": [
      "Final Particles: ['B13', 'C13', 'B19', 'A5', 'B17', 'B11', 'B17', 'B6', 'C3', 'A3', 'B12', 'B4', 'A3', 'A19', 'B13', 'A4', 'C20', 'B20', 'B9', 'A2', 'C1', 'B6', 'B7', 'B8', 'A18', 'C20', 'C16', 'C2', 'C14', 'A14', 'C10', 'C5', 'C10', 'A17', 'B18', 'B1', 'B19', 'C16', 'C5', 'A9', 'C1', 'C7', 'B16', 'A11', 'A9', 'A14', 'A2', 'C7', 'C10', 'C8', 'B15', 'B18', 'C6', 'C11', 'C15', 'C4', 'B12', 'B8', 'A12', 'A15']\n",
      "Amount of Particle A remained: 16\n",
      "Amount of Particle B remained: 22\n",
      "Amount of Particle C remained: 22\n"
     ]
    }
   ],
   "source": [
    "import random\n",
    "\n",
    "def particle_collision_corrected(n, k):\n",
    "    # Create initial particles\n",
    "    particles = [f\"A{i}\" for i in range(1, n + 1)] + [f\"B{i}\" for i in range(1, n + 1)] + [f\"C{i}\" for i in range(1, n + 1)]\n",
    "\n",
    "    for _ in range(k):\n",
    "        # Select two random particles\n",
    "        particle1, particle2 = random.sample(particles, 2)\n",
    "\n",
    "        # Check if they are different and process the collision\n",
    "        if particle1[0] != particle2[0]:\n",
    "            new_species = ({\"A\", \"B\", \"C\"} - {particle1[0], particle2[0]}).pop()\n",
    "            new_particle1 = new_species + particle1[1:]\n",
    "            new_particle2 = new_species + particle2[1:]\n",
    "\n",
    "            # Replace the old particles with the new ones\n",
    "            particles.remove(particle1)\n",
    "            particles.remove(particle2)\n",
    "            particles.append(new_particle1)\n",
    "            particles.append(new_particle2)\n",
    "\n",
    "    # Count remaining particles of each type\n",
    "    count_A = sum(p.startswith(\"A\") for p in particles)\n",
    "    count_B = sum(p.startswith(\"B\") for p in particles)\n",
    "    count_C = sum(p.startswith(\"C\") for p in particles)\n",
    "\n",
    "    return particles, count_A, count_B, count_C\n",
    "\n",
    "# Set your parameters\n",
    "n = 20\n",
    "k = 1000\n",
    "\n",
    "# Execute the simulation\n",
    "result_particles, count_A, count_B, count_C = particle_collision_corrected(n, k)\n",
    "\n",
    "# Print the results\n",
    "print(\"Final Particles:\", result_particles)\n",
    "print(\"Amount of Particle A remained:\", count_A)\n",
    "print(\"Amount of Particle B remained:\", count_B)\n",
    "print(\"Amount of Particle C remained:\", count_C)\n"
   ]
  },
  {
   "cell_type": "markdown",
   "id": "87fc4e6a-2d2c-45da-b0e3-1bea3505e260",
   "metadata": {},
   "source": [
    "# Program2: "
   ]
  },
  {
   "cell_type": "code",
   "execution_count": 13,
   "id": "574ea6a2-f2e7-450e-b7f7-502b682c0558",
   "metadata": {},
   "outputs": [
    {
     "name": "stdin",
     "output_type": "stream",
     "text": [
      "Enter the number of particle A (n1):  1\n",
      "Enter the number of particle B (n2):  1\n",
      "Enter the number of particle C (n3):  1\n",
      "Enter the number of collisions (k):  1\n"
     ]
    },
    {
     "name": "stdout",
     "output_type": "stream",
     "text": [
      "Final Particles: ['A1', 'A1', 'A1']\n",
      "Amount of Particle A remained: 3\n",
      "Amount of Particle B remained: 0\n",
      "Amount of Particle C remained: 0\n"
     ]
    }
   ],
   "source": [
    "import random\n",
    "\n",
    "def particle_collision_corrected(n1, n2, n3, k):\n",
    "    # Create initial particles\n",
    "    particles = [f\"A{i}\" for i in range(1, n1 + 1)] + [f\"B{i}\" for i in range(1, n2 + 1)] + [f\"C{i}\" for i in range(1, n3 + 1)]\n",
    "\n",
    "    for _ in range(k):\n",
    "        # Select two random particles\n",
    "        particle1, particle2 = random.sample(particles, 2)\n",
    "\n",
    "        # Check if they are different and process the collision\n",
    "        if particle1[0] != particle2[0]:\n",
    "            new_species = ({\"A\", \"B\", \"C\"} - {particle1[0], particle2[0]}).pop()\n",
    "            new_particle1 = new_species + particle1[1:]\n",
    "            new_particle2 = new_species + particle2[1:]\n",
    "\n",
    "            # Replace the old particles with the new ones\n",
    "            particles.remove(particle1)\n",
    "            particles.remove(particle2)\n",
    "            particles.append(new_particle1)\n",
    "            particles.append(new_particle2)\n",
    "\n",
    "    # Count remaining particles of each type\n",
    "    count_A = sum(p.startswith(\"A\") for p in particles)\n",
    "    count_B = sum(p.startswith(\"B\") for p in particles)\n",
    "    count_C = sum(p.startswith(\"C\") for p in particles)\n",
    "\n",
    "    return particles, count_A, count_B, count_C\n",
    "\n",
    "# Set your parameters\n",
    "n1 = int(input(\"Enter the number of particle A (n1): \"))\n",
    "n2 = int(input(\"Enter the number of particle B (n2): \"))\n",
    "n3 = int(input(\"Enter the number of particle C (n3): \"))\n",
    "k = int(input(\"Enter the number of collisions (k): \"))\n",
    "\n",
    "# Execute the simulation\n",
    "result_particles, count_A, count_B, count_C = particle_collision_corrected(n1, n2, n3, k)\n",
    "\n",
    "# Print the results\n",
    "print(\"Final Particles:\", result_particles)\n",
    "print(\"Amount of Particle A remained:\", count_A)\n",
    "print(\"Amount of Particle B remained:\", count_B)\n",
    "print(\"Amount of Particle C remained:\", count_C)\n"
   ]
  },
  {
   "cell_type": "markdown",
   "id": "7e09624f-5ee1-42b8-be64-3810e6187c5d",
   "metadata": {},
   "source": [
    "## Program2 (fast panel): "
   ]
  },
  {
   "cell_type": "code",
   "execution_count": 30,
   "id": "88f240b7-a0b7-44c8-a52a-b1e5fbc9b849",
   "metadata": {},
   "outputs": [
    {
     "name": "stdout",
     "output_type": "stream",
     "text": [
      "Final Particles: ['C20', 'C29', 'B7', 'C23', 'A3', 'C2', 'C30', 'A2', 'A18', 'C6', 'B12', 'A21', 'A13', 'A1', 'C4', 'C13', 'B5', 'A12', 'A25', 'A6', 'A17', 'B7', 'C6', 'C11', 'C3', 'B26', 'C9', 'B8', 'B11', 'B16', 'B5', 'B4', 'B24', 'C20', 'C19', 'C14', 'A17', 'A27', 'A16', 'A7', 'B28', 'B14', 'A18', 'A2', 'C4', 'C10', 'B9', 'B15', 'A10', 'B22', 'C8', 'C1', 'A1', 'A9', 'B5', 'B3', 'A8', 'A19', 'A15', 'A10']\n",
      "Amount of Particle A remained: 23\n",
      "Amount of Particle B remained: 18\n",
      "Amount of Particle C remained: 19\n"
     ]
    }
   ],
   "source": [
    "import random\n",
    "\n",
    "def particle_collision_corrected(n1, n2, n3, k):\n",
    "    # Create initial particles\n",
    "    particles = [f\"A{i}\" for i in range(1, n1 + 1)] + [f\"B{i}\" for i in range(1, n2 + 1)] + [f\"C{i}\" for i in range(1, n3 + 1)]\n",
    "\n",
    "    for _ in range(k):\n",
    "        # Select two random particles\n",
    "        particle1, particle2 = random.sample(particles, 2)\n",
    "\n",
    "        # Check if they are different and process the collision\n",
    "        if particle1[0] != particle2[0]:\n",
    "            new_species = ({\"A\", \"B\", \"C\"} - {particle1[0], particle2[0]}).pop()\n",
    "            new_particle1 = new_species + particle1[1:]\n",
    "            new_particle2 = new_species + particle2[1:]\n",
    "\n",
    "            # Replace the old particles with the new ones\n",
    "            particles.remove(particle1)\n",
    "            particles.remove(particle2)\n",
    "            particles.append(new_particle1)\n",
    "            particles.append(new_particle2)\n",
    "\n",
    "    # Count remaining particles of each type\n",
    "    count_A = sum(p.startswith(\"A\") for p in particles)\n",
    "    count_B = sum(p.startswith(\"B\") for p in particles)\n",
    "    count_C = sum(p.startswith(\"C\") for p in particles)\n",
    "\n",
    "    return particles, count_A, count_B, count_C\n",
    "\n",
    "# Set your parameters\n",
    "n1 = 10\n",
    "n2 = 20\n",
    "n3 = 30\n",
    "k = 10000\n",
    "\n",
    "# Execute the simulation\n",
    "result_particles, count_A, count_B, count_C = particle_collision_corrected(n1, n2, n3, k)\n",
    "\n",
    "# Print the results\n",
    "print(\"Final Particles:\", result_particles)\n",
    "print(\"Amount of Particle A remained:\", count_A)\n",
    "print(\"Amount of Particle B remained:\", count_B)\n",
    "print(\"Amount of Particle C remained:\", count_C)\n"
   ]
  },
  {
   "cell_type": "markdown",
   "id": "6f4106e8-1e3f-4de2-80f9-e3ad3918b52d",
   "metadata": {},
   "source": [
    "# Program3: "
   ]
  },
  {
   "cell_type": "code",
   "execution_count": 41,
   "id": "a018a354-7081-4818-a372-da476f8ad22e",
   "metadata": {},
   "outputs": [
    {
     "name": "stdin",
     "output_type": "stream",
     "text": [
      "Enter the number of particle A (n1):  0\n",
      "Enter the number of particle B (n2):  1\n",
      "Enter the number of particle C (n3):  59\n",
      "Enter the number of collisions (k):  1000\n",
      "Enter the length of the interval (i):  50\n"
     ]
    },
    {
     "name": "stdout",
     "output_type": "stream",
     "text": [
      "\n",
      "Table of Particle Counts at Specified Intervals:\n",
      " Nodes          A          B          C\n",
      "     0          0          1         59\n",
      "    50          3          4         53\n",
      "   100          7         14         39\n",
      "   150         14         15         31\n",
      "   200         22         14         24\n",
      "   250         26          9         25\n",
      "   300         28         17         15\n",
      "   350         16         20         24\n",
      "   400         26         18         16\n",
      "   450         31         14         15\n",
      "   500         29         12         19\n",
      "   550         21         22         17\n",
      "   600         25         23         12\n",
      "   650         12         25         23\n",
      "   700         21         16         23\n",
      "   750         20         24         16\n",
      "   800         11         27         22\n",
      "   850         19         20         21\n",
      "   900         12         25         23\n",
      "   950         18         19         23\n",
      "  1000         18         19         23\n"
     ]
    },
    {
     "data": {
      "image/png": "[encoded data removed]",
      "text/plain": [
       "<Figure size 720x432 with 1 Axes>"
      ]
     },
     "metadata": {
      "needs_background": "light"
     },
     "output_type": "display_data"
    },
    {
     "name": "stdout",
     "output_type": "stream",
     "text": [
      "Plot saved. Click here to download: C:\\Users\\Wangyh_0630\\MA3K7\\plots\\particle_collision_chart.png\n"
     ]
    }
   ],
   "source": [
    "import random\n",
    "import matplotlib.pyplot as plt\n",
    "import os\n",
    "\n",
    "def particle_collision_intervals(n1, n2, n3, k, i):\n",
    "    # Create initial particles\n",
    "    particles = [f\"A{i}\" for i in range(1, n1 + 1)] + [f\"B{i}\" for i in range(1, n2 + 1)] + [f\"C{i}\" for i in range(1, n3 + 1)]\n",
    "    \n",
    "    # Initialize variables for recording data\n",
    "    intervals = list(range(0, k + 1, i))\n",
    "    data = {\"nodes\": [], \"A\": [], \"B\": [], \"C\": []}\n",
    "\n",
    "    for current_collision in range(k + 1):\n",
    "        if current_collision in intervals:\n",
    "            # Count remaining particles of each type\n",
    "            count_A = sum(p.startswith(\"A\") for p in particles)\n",
    "            count_B = sum(p.startswith(\"B\") for p in particles)\n",
    "            count_C = sum(p.startswith(\"C\") for p in particles)\n",
    "\n",
    "            # Record the counts\n",
    "            data[\"nodes\"].append(current_collision)\n",
    "            data[\"A\"].append(count_A)\n",
    "            data[\"B\"].append(count_B)\n",
    "            data[\"C\"].append(count_C)\n",
    "\n",
    "        if current_collision < k:\n",
    "            # Select two random particles\n",
    "            particle1, particle2 = random.sample(particles, 2)\n",
    "\n",
    "            # Check if they are different and process the collision\n",
    "            if particle1[0] != particle2[0]:\n",
    "                new_species = ({\"A\", \"B\", \"C\"} - {particle1[0], particle2[0]}).pop()\n",
    "                new_particle1 = new_species + particle1[1:]\n",
    "                new_particle2 = new_species + particle2[1:]\n",
    "\n",
    "                # Replace the old particles with the new ones\n",
    "                particles.remove(particle1)\n",
    "                particles.remove(particle2)\n",
    "                particles.append(new_particle1)\n",
    "                particles.append(new_particle2)\n",
    "\n",
    "    return data\n",
    "\n",
    "def plot_data(data, filename=\"particle_collision_chart.png\"):\n",
    "    plt.figure(figsize=(10, 6))\n",
    "    plt.plot(data[\"nodes\"], data[\"A\"], label=\"Particle A\", marker='o')\n",
    "    plt.plot(data[\"nodes\"], data[\"B\"], label=\"Particle B\", marker='o')\n",
    "    plt.plot(data[\"nodes\"], data[\"C\"], label=\"Particle C\", marker='o')\n",
    "    plt.xlabel(\"Nodes\")\n",
    "    plt.ylabel(\"Particles Remaining\")\n",
    "    plt.title(\"Particle Counts at Various Collision Intervals\")\n",
    "    plt.legend()\n",
    "    plt.grid(True)\n",
    "\n",
    "    # Check if the directory exists, create if not\n",
    "    output_directory = \"plots\"\n",
    "    if not os.path.exists(output_directory):\n",
    "        os.makedirs(output_directory)\n",
    "\n",
    "    # Save the plot\n",
    "    filepath = os.path.join(output_directory, filename)\n",
    "    plt.savefig(filepath)\n",
    "    plt.show()\n",
    "\n",
    "    # Provide download link (for Jupyter Notebook environment)\n",
    "    from IPython.display import FileLink\n",
    "    return FileLink(filepath)\n",
    "\n",
    "# User inputs for the parameters\n",
    "n1 = int(input(\"Enter the number of particle A (n1): \"))\n",
    "n2 = int(input(\"Enter the number of particle B (n2): \"))\n",
    "n3 = int(input(\"Enter the number of particle C (n3): \"))\n",
    "k = int(input(\"Enter the number of collisions (k): \"))\n",
    "i = int(input(\"Enter the length of the interval (i): \"))\n",
    "\n",
    "# Execute the simulation\n",
    "simulation_data = particle_collision_intervals(n1, n2, n3, k, i)\n",
    "\n",
    "# Print the results in a table format\n",
    "print(\"\\nTable of Particle Counts at Specified Intervals:\")\n",
    "print(f\"{'Nodes':>6} {'A':>10} {'B':>10} {'C':>10}\")\n",
    "for node, a, b, c in zip(simulation_data[\"nodes\"], simulation_data[\"A\"], simulation_data[\"B\"], simulation_data[\"C\"]):\n",
    "    print(f\"{node:>6} {a:>10} {b:>10} {c:>10}\")\n",
    "\n",
    "# Plot and save the data\n",
    "download_link = plot_data(simulation_data)\n",
    "print(f\"Plot saved. Click here to download: {download_link}\")\n"
   ]
  },
  {
   "cell_type": "markdown",
   "id": "c59309eb-3cc0-457c-a6ea-b0bcd2bf81b5",
   "metadata": {},
   "source": [
    "## Program3 (Table Omitted): "
   ]
  },
  {
   "cell_type": "code",
   "execution_count": 61,
   "id": "5f79825b-484d-4699-a3fd-88eede77ea1e",
   "metadata": {},
   "outputs": [
    {
     "name": "stdin",
     "output_type": "stream",
     "text": [
      "Enter the number of particle A (n1):  1\n",
      "Enter the number of particle B (n2):  1\n",
      "Enter the number of particle C (n3):  3\n",
      "Enter the number of collisions (k):  1000\n",
      "Enter the length of the interval (i):  20\n"
     ]
    },
    {
     "data": {
      "image/png": "[encoded data removed]",
      "text/plain": [
       "<Figure size 720x432 with 1 Axes>"
      ]
     },
     "metadata": {
      "needs_background": "light"
     },
     "output_type": "display_data"
    },
    {
     "name": "stdout",
     "output_type": "stream",
     "text": [
      "Plot saved. Click here to download: C:\\Users\\Wangyh_0630\\MA3K7\\plots\\particle_collision_chart.png\n"
     ]
    }
   ],
   "source": [
    "import random\n",
    "import matplotlib.pyplot as plt\n",
    "import os\n",
    "\n",
    "def particle_collision_intervals(n1, n2, n3, k, i):\n",
    "    # Create initial particles\n",
    "    particles = [f\"A{i}\" for i in range(1, n1 + 1)] + [f\"B{i}\" for i in range(1, n2 + 1)] + [f\"C{i}\" for i in range(1, n3 + 1)]\n",
    "    \n",
    "    # Initialize variables for recording data\n",
    "    intervals = list(range(0, k + 1, i))\n",
    "    data = {\"nodes\": [], \"A\": [], \"B\": [], \"C\": []}\n",
    "\n",
    "    for current_collision in range(k + 1):\n",
    "        if current_collision in intervals:\n",
    "            # Count remaining particles of each type\n",
    "            count_A = sum(p.startswith(\"A\") for p in particles)\n",
    "            count_B = sum(p.startswith(\"B\") for p in particles)\n",
    "            count_C = sum(p.startswith(\"C\") for p in particles)\n",
    "\n",
    "            # Record the counts\n",
    "            data[\"nodes\"].append(current_collision)\n",
    "            data[\"A\"].append(count_A)\n",
    "            data[\"B\"].append(count_B)\n",
    "            data[\"C\"].append(count_C)\n",
    "\n",
    "        if current_collision < k:\n",
    "            # Select two random particles\n",
    "            particle1, particle2 = random.sample(particles, 2)\n",
    "\n",
    "            # Check if they are different and process the collision\n",
    "            if particle1[0] != particle2[0]:\n",
    "                new_species = ({\"A\", \"B\", \"C\"} - {particle1[0], particle2[0]}).pop()\n",
    "                new_particle1 = new_species + particle1[1:]\n",
    "                new_particle2 = new_species + particle2[1:]\n",
    "\n",
    "                # Replace the old particles with the new ones\n",
    "                particles.remove(particle1)\n",
    "                particles.remove(particle2)\n",
    "                particles.append(new_particle1)\n",
    "                particles.append(new_particle2)\n",
    "\n",
    "    return data\n",
    "\n",
    "def plot_data(data, filename=\"particle_collision_chart.png\"):\n",
    "    plt.figure(figsize=(10, 6))\n",
    "    plt.plot(data[\"nodes\"], data[\"A\"], label=\"Particle A\", marker='o')\n",
    "    plt.plot(data[\"nodes\"], data[\"B\"], label=\"Particle B\", marker='o')\n",
    "    plt.plot(data[\"nodes\"], data[\"C\"], label=\"Particle C\", marker='o')\n",
    "    plt.xlabel(\"Nodes\")\n",
    "    plt.ylabel(\"Particles Remaining\")\n",
    "    plt.title(\"Particle Counts at Various Collision Intervals\")\n",
    "    plt.legend()\n",
    "    plt.grid(True)\n",
    "\n",
    "    # Check if the directory exists, create if not\n",
    "    output_directory = \"plots\"\n",
    "    if not os.path.exists(output_directory):\n",
    "        os.makedirs(output_directory)\n",
    "\n",
    "    # Save the plot\n",
    "    filepath = os.path.join(output_directory, filename)\n",
    "    plt.savefig(filepath)\n",
    "    plt.show()\n",
    "\n",
    "    # Provide download link (for Jupyter Notebook environment)\n",
    "    from IPython.display import FileLink\n",
    "    return FileLink(filepath)\n",
    "\n",
    "# User inputs for the parameters\n",
    "n1 = int(input(\"Enter the number of particle A (n1): \"))\n",
    "n2 = int(input(\"Enter the number of particle B (n2): \"))\n",
    "n3 = int(input(\"Enter the number of particle C (n3): \"))\n",
    "k = int(input(\"Enter the number of collisions (k): \"))\n",
    "i = int(input(\"Enter the length of the interval (i): \"))\n",
    "\n",
    "# Execute the simulation\n",
    "simulation_data = particle_collision_intervals(n1, n2, n3, k, i)\n",
    "\n",
    "# Plot and save the data\n",
    "download_link = plot_data(simulation_data)\n",
    "print(f\"Plot saved. Click here to download: {download_link}\")\n"
   ]
  },
  {
   "cell_type": "markdown",
   "id": "185241ff-bd1a-49c1-aba5-efd53afdaee4",
   "metadata": {},
   "source": [
    "## Program3 (fast panel): "
   ]
  },
  {
   "cell_type": "code",
   "execution_count": 99,
   "id": "1cda0673-d991-44f7-ad62-ff4c293b72b1",
   "metadata": {},
   "outputs": [
    {
     "data": {
      "image/png": "[encoded data removed]",
      "text/plain": [
       "<Figure size 720x432 with 1 Axes>"
      ]
     },
     "metadata": {
      "needs_background": "light"
     },
     "output_type": "display_data"
    },
    {
     "name": "stdout",
     "output_type": "stream",
     "text": [
      "Plot saved. Click here to download: C:\\Users\\Wangyh_0630\\MA3K7\\plots\\particle_collision_chart.png\n"
     ]
    }
   ],
   "source": [
    "import random\n",
    "import matplotlib.pyplot as plt\n",
    "import os\n",
    "\n",
    "def particle_collision_intervals(n1, n2, n3, k, i):\n",
    "    # Create initial particles\n",
    "    particles = [f\"A{i}\" for i in range(1, n1 + 1)] + [f\"B{i}\" for i in range(1, n2 + 1)] + [f\"C{i}\" for i in range(1, n3 + 1)]\n",
    "    \n",
    "    # Initialize variables for recording data\n",
    "    intervals = list(range(0, k + 1, i))\n",
    "    data = {\"nodes\": [], \"A\": [], \"B\": [], \"C\": []}\n",
    "\n",
    "    for current_collision in range(k + 1):\n",
    "        if current_collision in intervals:\n",
    "            # Count remaining particles of each type\n",
    "            count_A = sum(p.startswith(\"A\") for p in particles)\n",
    "            count_B = sum(p.startswith(\"B\") for p in particles)\n",
    "            count_C = sum(p.startswith(\"C\") for p in particles)\n",
    "\n",
    "            # Record the counts\n",
    "            data[\"nodes\"].append(current_collision)\n",
    "            data[\"A\"].append(count_A)\n",
    "            data[\"B\"].append(count_B)\n",
    "            data[\"C\"].append(count_C)\n",
    "\n",
    "        if current_collision < k:\n",
    "            # Select two random particles\n",
    "            particle1, particle2 = random.sample(particles, 2)\n",
    "\n",
    "            # Check if they are different and process the collision\n",
    "            if particle1[0] != particle2[0]:\n",
    "                new_species = ({\"A\", \"B\", \"C\"} - {particle1[0], particle2[0]}).pop()\n",
    "                new_particle1 = new_species + particle1[1:]\n",
    "                new_particle2 = new_species + particle2[1:]\n",
    "\n",
    "                # Replace the old particles with the new ones\n",
    "                particles.remove(particle1)\n",
    "                particles.remove(particle2)\n",
    "                particles.append(new_particle1)\n",
    "                particles.append(new_particle2)\n",
    "\n",
    "    return data\n",
    "\n",
    "def plot_data(data, filename=\"particle_collision_chart.png\"):\n",
    "    plt.figure(figsize=(10, 6))\n",
    "    plt.plot(data[\"nodes\"], data[\"A\"], label=\"Particle A\", marker='o')\n",
    "    plt.plot(data[\"nodes\"], data[\"B\"], label=\"Particle B\", marker='o')\n",
    "    plt.plot(data[\"nodes\"], data[\"C\"], label=\"Particle C\", marker='o')\n",
    "    plt.xlabel(\"Nodes\")\n",
    "    plt.ylabel(\"Particles Remaining\")\n",
    "    plt.title(\"Particle Counts at Various Collision Intervals\")\n",
    "    plt.legend()\n",
    "    plt.grid(True)\n",
    "\n",
    "    # Check if the directory exists, create if not\n",
    "    output_directory = \"plots\"\n",
    "    if not os.path.exists(output_directory):\n",
    "        os.makedirs(output_directory)\n",
    "\n",
    "    # Save the plot\n",
    "    filepath = os.path.join(output_directory, filename)\n",
    "    plt.savefig(filepath)\n",
    "    plt.show()\n",
    "\n",
    "    # Provide download link (for Jupyter Notebook environment)\n",
    "    from IPython.display import FileLink\n",
    "    return FileLink(filepath)\n",
    "\n",
    "# User inputs for the parameters\n",
    "n1 = 2\n",
    "n2 = 2\n",
    "n3 = 6\n",
    "k = 1000\n",
    "i = 50\n",
    "\n",
    "# Execute the simulation\n",
    "simulation_data = particle_collision_intervals(n1, n2, n3, k, i)\n",
    "\n",
    "# Plot and save the data\n",
    "download_link = plot_data(simulation_data)\n",
    "print(f\"Plot saved. Click here to download: {download_link}\")\n"
   ]
  },
  {
   "cell_type": "code",
   "execution_count": null,
   "id": "c9444b92-f9f7-4f79-9e6f-1d03088e7a51",
   "metadata": {},
   "outputs": [],
   "source": []
  }
 ],
 "metadata": {
  "kernelspec": {
   "display_name": "Python 3 (ipykernel)",
   "language": "python",
   "name": "python3"
  },
  "language_info": {
   "codemirror_mode": {
    "name": "ipython",
    "version": 3
   },
   "file_extension": ".py",
   "mimetype": "text/x-python",
   "name": "python",
   "nbconvert_exporter": "python",
   "pygments_lexer": "ipython3",
   "version": "3.9.7"
  }
 },
 "nbformat": 4,
 "nbformat_minor": 5
}
